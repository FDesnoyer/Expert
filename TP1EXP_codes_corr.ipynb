{
 "cells": [
  {
   "cell_type": "markdown",
   "metadata": {},
   "source": [
    "*utiliser ce TP: il faut utiliser \"shift + entrée\" pour faire fonctionner une cellule. Si tout va bien, un numéro apparaît devant dans les [ ], si une étoile se fige, le \"noyau\" (= \"kernel\") est, probablement, planté, je vous recommande d'aller dans le menu \"kernel\" et de faire \"restart\".*\n",
    "\n",
    "**Pour répondre, essayez d'imprimer ou de faire des captures d'écrans. Bon courage.**"
   ]
  },
  {
   "cell_type": "markdown",
   "metadata": {},
   "source": [
    "# Codes correcteurs"
   ]
  },
  {
   "cell_type": "markdown",
   "metadata": {},
   "source": [
    "### Contexte\n",
    "Le **contrôle de parité** sert à contrôler des transmissions de données en binaire. Il consiste à ajouter un bit de parité devnat un ensemble de bits: 0 si la donnée contient un nombre pair de 1 et 1 sinon.\n",
    "Par exemple, la lettre A codée 65 en ASCII est codée 1000001 en binaire; ces données continnent deux chiffres 1 donc le bit parité vaut 0. La lettre A sera donc codée 01000001."
   ]
  },
  {
   "cell_type": "markdown",
   "metadata": {},
   "source": [
    "*Quelques outils:*\n",
    "\n",
    "**bin(ord(\"...\"))** *donne l'écriture d'un caractère ASCII en binaire 7 bits avec 0b devant.*\n",
    "\n",
    "*Vous pourrez utiliser le script suivant pour vos tests.*"
   ]
  },
  {
   "cell_type": "code",
   "execution_count": null,
   "metadata": {},
   "outputs": [],
   "source": [
    "def conversion_bin_car(c):\n",
    "    C=list(bin(ord(c)))\n",
    "    del C[0]\n",
    "    del C[0]\n",
    "    return C\n",
    "\n",
    "def conversion_bin_mot(m):\n",
    "    M=list(m)\n",
    "    R=[]\n",
    "    for c in M:\n",
    "        R.append(conversion_bin_car(c))\n",
    "    return R"
   ]
  },
  {
   "cell_type": "markdown",
   "metadata": {},
   "source": [
    "### Première partie."
   ]
  },
  {
   "cell_type": "markdown",
   "metadata": {},
   "source": [
    "Ecrire une fonction Python **parite** qui prend pour argument une liste de 0 et de 1 dt renvoie son bit de parité."
   ]
  },
  {
   "cell_type": "code",
   "execution_count": null,
   "metadata": {},
   "outputs": [],
   "source": [
    "def parite(...):\n",
    "    \n",
    "    return None"
   ]
  },
  {
   "cell_type": "code",
   "execution_count": null,
   "metadata": {},
   "outputs": [],
   "source": [
    "# Tester vos résultats sur 1100011; 111100011; 111110000111111"
   ]
  },
  {
   "cell_type": "markdown",
   "metadata": {},
   "source": [
    "Ecrire une fonction **controle_parité** qui prend pour argument une liste codée par bit de parité et vérifie s'il y a une erreur."
   ]
  },
  {
   "cell_type": "code",
   "execution_count": null,
   "metadata": {},
   "outputs": [],
   "source": [
    "def controle_parite(...):\n",
    "    \n",
    "    return None"
   ]
  },
  {
   "cell_type": "markdown",
   "metadata": {},
   "source": [
    "Voyez-vous des problèmes qui peuvent surgir avec cette méthode?"
   ]
  },
  {
   "cell_type": "markdown",
   "metadata": {},
   "source": [
    "### Deuxième partie."
   ]
  },
  {
   "cell_type": "markdown",
   "metadata": {},
   "source": [
    "Le *controle de parité croisé* a été créé pour pallier les problèmes évoqués précédemment.\n",
    "La liste à coder, ici le mot BASE, est mis sous la forme d'un tableau à deux dimensions, chaque lettre est codée sur une ligne puis on ajoute le bit de parité à la fin de la ligne. Sur la dernière ligne, on ajoute le bit de parité de chaque colonne.\n",
    "On se donne un script pour **parite_croise**, on vous demande de le compléter et de le tester sur le mot BASE."
   ]
  },
  {
   "cell_type": "code",
   "execution_count": null,
   "metadata": {},
   "outputs": [],
   "source": [
    "def parite_croise(L):\n",
    "    Tableau=list(L)\n",
    "    Colonne=[]\n",
    "    for i in range(len(L)):\n",
    "        Tableau[i].append((sum(L[i]))%2)\n",
    "    for i in range(...):\n",
    "        S=0\n",
    "        for j in range(...):\n",
    "            S=S+Tableau[j][i]\n",
    "        Colonne.append(...)\n",
    "    Tableau.append(...)\n",
    "    return Tableau"
   ]
  },
  {
   "cell_type": "code",
   "execution_count": null,
   "metadata": {},
   "outputs": [],
   "source": [
    "# Test sur le mot BASE"
   ]
  },
  {
   "cell_type": "code",
   "execution_count": null,
   "metadata": {},
   "outputs": [],
   "source": []
  },
  {
   "cell_type": "code",
   "execution_count": null,
   "metadata": {},
   "outputs": [],
   "source": []
  },
  {
   "cell_type": "code",
   "execution_count": null,
   "metadata": {},
   "outputs": [],
   "source": []
  }
 ],
 "metadata": {
  "kernelspec": {
   "display_name": "Python 3",
   "language": "python",
   "name": "python3"
  },
  "language_info": {
   "codemirror_mode": {
    "name": "ipython",
    "version": 3
   },
   "file_extension": ".py",
   "mimetype": "text/x-python",
   "name": "python",
   "nbconvert_exporter": "python",
   "pygments_lexer": "ipython3",
   "version": "3.7.4"
  }
 },
 "nbformat": 4,
 "nbformat_minor": 2
}
